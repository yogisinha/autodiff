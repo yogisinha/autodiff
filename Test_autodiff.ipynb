{
 "cells": [
  {
   "cell_type": "markdown",
   "metadata": {},
   "source": [
    "# Autodiff demo\n",
    "\n",
    "Following is the demo for small library for Reverse-mode Automatic Differentiation, to be used in Neural network training. I wrote this as a solution of one of the assignments in Deep learning course from University of Washington. https://github.com/dlsys-course/assignment1. I am not enrolled in this course. This was only for learning purpose.\n",
    "\n",
    "This notebook demos the comparison between this library and Tensorflow library in training of a small neural network doing the classification of images among 3 classes. It demos how the loss decreases after each epoch of training and results almost matches with Tensorflow execution.\n",
    "\n",
    "**That assignment had skeleton code for:**\n",
    "- Node, Op and Executor classes (run and gradients method)\n",
    "- Implementions for AddOp, AddByConstOp\n",
    "\n",
    "**I Implemented:**\n",
    "- Operations like \n",
    "    - SubOp, MulOp, AddByConstOp, MulByConstOp, PlaceholderOp   \n",
    "    - MatMulOp, TransposeOp    \n",
    "    - OnesLikeOp, ZerosLikeOp\n",
    "    - ExpXOp, InverseOp, ReduceMeanOp\n",
    "    - SizeOp, LogOp, AssignOp\n",
    "    - SoftmaxOp, Softmax_With_Cross_EntropyOp\n",
    "    - SigmoidOp, Sigmoid_With_Cross_EntropyOp\n",
    "    - ReluOp, Relu_DerivativeOp\n",
    "- Gradient computation of trainable variable w.r.t. cost\n",
    "- Executor.run method which computes the values for a given subset of nodes in a computation graph.\n",
    "- Optimizer such as GradientDescentOptimizer"
   ]
  },
  {
   "cell_type": "code",
   "execution_count": 1,
   "metadata": {
    "collapsed": true
   },
   "outputs": [],
   "source": [
    "from PIL import Image\n",
    "import numpy as np\n",
    "import matplotlib.pyplot as plt\n",
    "from scipy import ndimage\n",
    "from pathlib import Path, PurePath, WindowsPath\n",
    "from operator import itemgetter\n",
    "import tensorflow as tf\n",
    "from tensorflow.python.framework import ops\n",
    "from tf_utils import load_dataset, convert_to_one_hot, predict\n",
    "\n",
    "from image_dataset_load import *\n",
    "\n",
    "# Importing autodiff library\n",
    "import autodiff as ad\n",
    "import train as tr  # this module has GradientDescentOptimizer class\n",
    "import initializers as init\n",
    "\n",
    "%matplotlib inline"
   ]
  },
  {
   "cell_type": "code",
   "execution_count": 2,
   "metadata": {
    "collapsed": true
   },
   "outputs": [],
   "source": [
    "def show_image(data, label, ind, dimension, print_class=False):\n",
    "    w, h = dimension\n",
    "    test_image = data[:, ind].reshape(h, w, 3)\n",
    "    test_label = label[:, ind]    \n",
    "    if print_class:\n",
    "        print(test_label, np.argmax(test_label))\n",
    "    plt.imshow(test_image)\n",
    "    plt.show()\n",
    "    return np.argmax(test_label)"
   ]
  },
  {
   "cell_type": "code",
   "execution_count": 3,
   "metadata": {
    "collapsed": true
   },
   "outputs": [],
   "source": [
    "def one_hot(labels, C):\n",
    "    \"\"\"\n",
    "    Creates a matrix where the i-th row corresponds to the ith class number and the jth column\n",
    "                     corresponds to the jth training example. So if example j had a label i. Then entry (i,j) \n",
    "                     will be 1. \n",
    "                     \n",
    "    Arguments:\n",
    "    labels -- vector containing the labels \n",
    "    C -- number of classes, the depth of the one hot dimension\n",
    "    \n",
    "    Returns: \n",
    "    one_hot -- one hot matrix\n",
    "    \"\"\"\n",
    "    \n",
    "    C = tf.constant(C, name='C')\n",
    "    \n",
    "    one_hot_matrix = tf.one_hot(labels, C, axis=0)\n",
    "    \n",
    "    sess = tf.Session()\n",
    "    one_hot = sess.run(one_hot_matrix)\n",
    "    sess.close()\n",
    "    \n",
    "    return one_hot    "
   ]
  },
  {
   "cell_type": "markdown",
   "metadata": {},
   "source": [
    "Loading the 3 class of images for training"
   ]
  },
  {
   "cell_type": "code",
   "execution_count": 4,
   "metadata": {},
   "outputs": [
    {
     "name": "stdout",
     "output_type": "stream",
     "text": [
      "(310, 80, 80, 3)\n",
      "(653, 80, 80, 3)\n",
      "(896, 80, 80, 3)\n",
      "train_X shape, train_Y shape  (19200, 700) (3, 700)\n",
      "test_X shape, test_Y shape  (19200, 196) (3, 196)\n"
     ]
    }
   ],
   "source": [
    "#X, Y = load_img_dataset()\n",
    "X, Y = loadImgsLabels([(r\"test\\size_80x80\\1\", 0), (r\"test\\size_80x80\\2\", 1), (r\"test\\size_80x80\\3\", 2)], (80, 80))\n",
    "X, Y = randomize_std(X, Y)\n",
    "\n",
    "num_classes = 3\n",
    "\n",
    "train_X, train_Y, test_X, test_Y = split_train_test(X, Y, 700)\n",
    "\n",
    "train_Y = one_hot(train_Y, num_classes)\n",
    "test_Y = one_hot(test_Y, num_classes)\n",
    "\n",
    "train_Y = train_Y.reshape((num_classes, train_Y.shape[2]))\n",
    "test_Y = test_Y.reshape((num_classes, test_Y.shape[2]))\n",
    "\n",
    "print(\"train_X shape, train_Y shape \", train_X.shape, train_Y.shape)\n",
    "print(\"test_X shape, test_Y shape \", test_X.shape, test_Y.shape)"
   ]
  },
  {
   "cell_type": "code",
   "execution_count": 5,
   "metadata": {
    "collapsed": true
   },
   "outputs": [],
   "source": [
    "def random_mini_batches(X, Y, batch_size=10, seed=0):    \n",
    "    \"\"\"\n",
    "    Shuffle the input X and produce mini batches in size of batch_size\n",
    "    \n",
    "    Arguments:\n",
    "    X - input.  dimension ( input features, no of examples )\n",
    "    Y - labels\n",
    "    batch_size - size of the mini-batch\n",
    "    seed - seed to randomize the X before splitting it into mini-batches\n",
    "\n",
    "    Returns:\n",
    "    batches of X and Y split into size of batch_size\n",
    "    \"\"\"   \n",
    "    \n",
    "    \n",
    "    np.random.seed(seed)\n",
    "    \n",
    "    m = X.shape[1]\n",
    "    permute = list(np.random.permutation(m))\n",
    "    \n",
    "    X = X[:, permute]\n",
    "    Y = Y[:, permute]     \n",
    "    \n",
    "    \n",
    "    a = list(range(0, m, batch_size))\n",
    "    b = list(range(batch_size, m, batch_size))    \n",
    "    b.append(m)\n",
    "    \n",
    "    for (start, end) in zip(a, b):        \n",
    "        yield X[:, start:end], Y[:, start:end]"
   ]
  },
  {
   "cell_type": "markdown",
   "metadata": {},
   "source": [
    "Setting the training variables, computaion graph and training the model using **autodiff** library"
   ]
  },
  {
   "cell_type": "code",
   "execution_count": 6,
   "metadata": {
    "collapsed": true
   },
   "outputs": [],
   "source": [
    "learn_rate = 0.005\n",
    "\n",
    "W1 = ad.Variable(name = \"W1\", shape = (100, train_X.shape[0]), initializer = init.xavier_initializer())\n",
    "W2 = ad.Variable(name = \"W2\", shape = (20, 100), initializer = init.xavier_initializer())\n",
    "W3 = ad.Variable(name = \"W3\", shape = (3, 20), initializer = init.xavier_initializer())\n",
    "\n",
    "x, labels = ad.placeholder(name = \"x\"), ad.placeholder(name = \"labels\")"
   ]
  },
  {
   "cell_type": "code",
   "execution_count": 7,
   "metadata": {},
   "outputs": [
    {
     "name": "stdout",
     "output_type": "stream",
     "text": [
      "trainable_vars  [W1, W2, W3]\n",
      "Cost after epoch 1: 12.821472\n",
      "Cost after epoch 2: 10.853068\n",
      "Cost after epoch 3: 8.807595\n",
      "Cost after epoch 4: 8.930385\n",
      "Cost after epoch 5: 8.021197\n",
      "Cost after epoch 6: 7.290488\n",
      "Cost after epoch 7: 7.405478\n",
      "Cost after epoch 8: 6.796811\n",
      "Cost after epoch 9: 6.569471\n",
      "Cost after epoch 10: 5.840512\n",
      "Cost after epoch 11: 6.227665\n",
      "Cost after epoch 12: 5.440793\n",
      "Cost after epoch 13: 5.574930\n",
      "Cost after epoch 14: 5.067640\n",
      "Cost after epoch 15: 4.978729\n",
      "Cost after epoch 16: 4.560718\n",
      "Cost after epoch 17: 4.667846\n",
      "Cost after epoch 18: 4.854133\n",
      "Cost after epoch 19: 4.834579\n",
      "Cost after epoch 20: 4.066814\n",
      "Cost after epoch 21: 4.006650\n",
      "Cost after epoch 22: 3.910609\n",
      "Cost after epoch 23: 3.240038\n",
      "Cost after epoch 24: 3.501762\n",
      "Cost after epoch 25: 2.805002\n",
      "Cost after epoch 26: 3.898406\n",
      "Cost after epoch 27: 3.033619\n",
      "Cost after epoch 28: 2.814546\n",
      "Cost after epoch 29: 2.495004\n",
      "Cost after epoch 30: 2.709383\n",
      "Cost after epoch 31: 2.337458\n",
      "Cost after epoch 32: 1.938666\n",
      "Cost after epoch 33: 1.658287\n",
      "Cost after epoch 34: 2.566452\n",
      "Cost after epoch 35: 2.302448\n",
      "Cost after epoch 36: 1.592777\n",
      "Cost after epoch 37: 1.748373\n",
      "Cost after epoch 38: 1.792497\n",
      "Cost after epoch 39: 0.943374\n",
      "Cost after epoch 40: 0.793969\n",
      "Cost after epoch 41: 0.880805\n",
      "Cost after epoch 42: 1.090151\n",
      "Cost after epoch 43: 0.530984\n",
      "Cost after epoch 44: 0.413354\n",
      "Cost after epoch 45: 0.375753\n",
      "Cost after epoch 46: 0.344853\n",
      "Cost after epoch 47: 0.338764\n",
      "Cost after epoch 48: 0.280791\n",
      "Cost after epoch 49: 0.280215\n",
      "Cost after epoch 50: 0.287782\n"
     ]
    }
   ],
   "source": [
    "Z1 = ad.matmul(W1, x)\n",
    "A1 = ad.relu(Z1)\n",
    "Z2 = ad.matmul(W2, A1)\n",
    "A2 = ad.relu(Z2)\n",
    "Z3 = ad.matmul(W3, A2)\n",
    "\n",
    "cost = ad.reduce_mean( ad.softmax_with_cross_entropy(Z3, labels) )\n",
    "optimizer = tr.GradientDescentOptimizer(learn_rate).minimize(cost)\n",
    "optimizer.append(cost)\n",
    "executor = ad.Executor(optimizer)\n",
    "\n",
    "seed = 0\n",
    "costs = []   # to track the costs\n",
    "epochs = 50\n",
    "mini_batch_size = 10\n",
    "    \n",
    "for epoch in range(epochs):\n",
    "    epoch_cost = 0\n",
    "    seed += 1\n",
    "    \n",
    "    for (batch_X, batch_Y) in random_mini_batches(train_X, train_Y, mini_batch_size, seed):\n",
    "        curr_batch_size = batch_X.shape[1]\n",
    "        \n",
    "        _, minibatch_cost = executor.run(feed_dict = {x : batch_X, labels : batch_Y})        \n",
    "        epoch_cost += minibatch_cost/curr_batch_size\n",
    "        \n",
    "    print(\"Cost after epoch %i: %f\" % (epoch+1, epoch_cost))                "
   ]
  },
  {
   "cell_type": "markdown",
   "metadata": {},
   "source": [
    "Setting the training variables, computaion graph and training the model using **Tensorflow** library"
   ]
  },
  {
   "cell_type": "code",
   "execution_count": 8,
   "metadata": {
    "collapsed": true
   },
   "outputs": [],
   "source": [
    "def create_placeholders(num_features, classes):\n",
    "    \"\"\"\n",
    "    Creates the placeholders for training data X and traininig class labels Y\n",
    "                     \n",
    "    Arguments:\n",
    "    num_inputs -- no. of input features \n",
    "    classes -- number of classes\n",
    "    \n",
    "    Returns: \n",
    "    X and Y placeholders\n",
    "    \"\"\"\n",
    "    \n",
    "    X = tf.placeholder(tf.float32, shape=(num_features, None), name='X')\n",
    "    Y = tf.placeholder(tf.float32, shape=(classes, None), name='Y')\n",
    "    \n",
    "    return X, Y    "
   ]
  },
  {
   "cell_type": "code",
   "execution_count": 9,
   "metadata": {
    "collapsed": true
   },
   "outputs": [],
   "source": [
    "def initialize_parameters(num_features, classes):\n",
    "    \"\"\"\n",
    "    initialize the wts and biases for the network\n",
    "    \n",
    "    Arguments:\n",
    "    num_inputs -- no. of input features \n",
    "    classes -- number of classes\n",
    "    \n",
    "    Returns :\n",
    "    dictionary of tensors containing W1, b1, W2, b2, W3, b3    \n",
    "    \"\"\"\n",
    "    \n",
    "    random_init = tf.random_normal_initializer()\n",
    "    xavier_init = tf.contrib.layers.xavier_initializer(seed = 1)\n",
    "    \n",
    "    W1 = tf.get_variable(\"W1\", [100, num_features], initializer = tf.contrib.layers.xavier_initializer(seed = 1))\n",
    "    b1 = tf.get_variable(\"b1\", [300, 1], initializer = tf.zeros_initializer())\n",
    "    \n",
    "    W2 = tf.get_variable(\"W2\", [20, 100], initializer = tf.contrib.layers.xavier_initializer(seed = 1))\n",
    "    b2 = tf.get_variable(\"b2\", [100, 1], initializer = tf.zeros_initializer())\n",
    "    \n",
    "    W3 = tf.get_variable(\"W3\", [classes, 20], initializer = tf.contrib.layers.xavier_initializer(seed = 1))\n",
    "    b3 = tf.get_variable(\"b3\", [classes, 1], initializer = tf.zeros_initializer())\n",
    "\n",
    "    parameters = {\"W1\":W1, \"b1\":b1,\n",
    "                  \"W2\":W2, \"b2\":b2,\n",
    "                  \"W3\":W3, \"b3\":b3\n",
    "                 }\n",
    "    \n",
    "    return parameters"
   ]
  },
  {
   "cell_type": "code",
   "execution_count": 10,
   "metadata": {
    "collapsed": true
   },
   "outputs": [],
   "source": [
    "def forward_prop(X, parameters):\n",
    "    \"\"\"\n",
    "    Computes the forward propagation.\n",
    "    \n",
    "    Arguments:\n",
    "    X -- input data of dimension ( input features, no of examples )\n",
    "    parameters -- training wts and biases\n",
    "    \n",
    "    Returns: \n",
    "    linear output tensor from last unit   \n",
    "    \"\"\"\n",
    "    \n",
    "    W1, b1 = parameters[\"W1\"], parameters[\"b1\"]\n",
    "    W2, b2 = parameters[\"W2\"], parameters[\"b2\"]\n",
    "    W3, b3 = parameters[\"W3\"], parameters[\"b3\"]\n",
    "\n",
    "    Z1 = tf.matmul(W1, X) #+ b1\n",
    "    A1 = tf.nn.relu(Z1)\n",
    "    Z2 = tf.matmul(W2, A1) #+ b2\n",
    "    A2 = tf.nn.relu(Z2)\n",
    "    Z3 = tf.matmul(W3, A2) #+ b3\n",
    "\n",
    "    return Z3"
   ]
  },
  {
   "cell_type": "code",
   "execution_count": 11,
   "metadata": {
    "collapsed": true
   },
   "outputs": [],
   "source": [
    "def compute_cost(Z3, Y, l2_regularize, beta, parameters):\n",
    "    \"\"\"\n",
    "    computes the softmax cross entropy cost\n",
    "\n",
    "    Arguments :\n",
    "    Z3 - linear output from last unit of network (classes, batch size)\n",
    "    Y -  one hot encoding of labels (classes, batch size)\n",
    "\n",
    "    Returns :\n",
    "    Tensor of the cost function \n",
    "    \"\"\"\n",
    "\n",
    "    # to fit the requirement of tf.nn.softmax_cross_entropy_with_logits... . this function expects the \n",
    "    # inputs in dimension (batch size, classes)\n",
    "    logits = tf.transpose(Z3)\n",
    "    labels = tf.transpose(Y)\n",
    "    \n",
    "    regularizer = 0\n",
    "    if l2_regularize:\n",
    "        W1 = parameters[\"W1\"]\n",
    "        W2 = parameters[\"W2\"]\n",
    "        W3 = parameters[\"W3\"]\n",
    "        \n",
    "        regularizer = tf.nn.l2_loss(W1) + tf.nn.l2_loss(W2) + tf.nn.l2_loss(W3)        \n",
    "        \n",
    "\n",
    "    cost = tf.reduce_mean( \n",
    "          tf.nn.softmax_cross_entropy_with_logits(logits = logits, labels = labels) + beta*regularizer )\n",
    "\n",
    "    return cost"
   ]
  },
  {
   "cell_type": "code",
   "execution_count": 12,
   "metadata": {
    "collapsed": true
   },
   "outputs": [],
   "source": [
    "def accuracy(Z3, Y1, train_X, train_Y, test_X, test_Y):\n",
    "    # Calculate the correct predictions\n",
    "    correct_prediction = tf.equal(tf.argmax(Z3), tf.argmax(Y1))\n",
    "\n",
    "    # Calculate accuracy on the test set\n",
    "    accuracy1 = tf.reduce_mean(tf.cast(correct_prediction, \"float\"))\n",
    "\n",
    "    print (\"Train Accuracy:\", accuracy1.eval({X: train_X, Y: train_Y}))\n",
    "    print (\"Test Accuracy:\", accuracy1.eval({X: test_X, Y: test_Y}))"
   ]
  },
  {
   "cell_type": "code",
   "execution_count": 13,
   "metadata": {
    "collapsed": true
   },
   "outputs": [],
   "source": [
    "def train(train_X, train_Y, dev_X, dev_Y, test_X, test_Y, learning_rate = 0.005, \n",
    "          num_epochs = 500, mini_batch_size = 10, \n",
    "          l2_regularize=False, beta=0.01):\n",
    "    \n",
    "    print(\"learning_rate %f, num_epochs %i, mini_batch_size %i, l2_regularize %s, beta %f\" % \n",
    "          (learning_rate, num_epochs, mini_batch_size, l2_regularize, beta))\n",
    "\n",
    "\n",
    "    ops.reset_default_graph()\n",
    "\n",
    "    num_features, classes = train_X.shape[0], train_Y.shape[0]\n",
    "\n",
    "    X, Y = create_placeholders(num_features, classes)\n",
    "\n",
    "    parameters = initialize_parameters(num_features, classes)\n",
    "\n",
    "    Z3 = forward_prop(X, parameters)\n",
    "\n",
    "    cost = compute_cost(Z3, Y, l2_regularize, beta, parameters)\n",
    "\n",
    "    optimizer = tf.train.GradientDescentOptimizer(learning_rate=learning_rate).minimize(cost)\n",
    "    \n",
    "    correct_prediction = tf.equal(tf.argmax(Z3), tf.argmax(Y))\n",
    "    accuracy = tf.reduce_mean(tf.cast(correct_prediction, \"float\"))\n",
    "\n",
    "    init = tf.global_variables_initializer()\n",
    "\n",
    "    # train \n",
    "    seed = 0\n",
    "    costs = []   # to track the costs\n",
    "    \n",
    "    with tf.Session() as sess:\n",
    "        sess.run(init)\n",
    "\n",
    "        for epoch in range(num_epochs):\n",
    "            epoch_cost = 0\n",
    "            seed += 1\n",
    "\n",
    "            for (batch_X, batch_Y) in random_mini_batches(train_X, train_Y, mini_batch_size, seed):\n",
    "                curr_batch_size = batch_X.shape[1]\n",
    "\n",
    "                _, minibatch_cost = sess.run([optimizer, cost], feed_dict = {X:batch_X, Y:batch_Y})\n",
    "\n",
    "                epoch_cost += minibatch_cost/curr_batch_size\n",
    "\n",
    "            print(\"Cost after epoch %i: %f\" % (epoch+1, epoch_cost))\n",
    "            if epoch % 5 == 0:\n",
    "                costs.append(epoch_cost)\n",
    "\n",
    "        plt.plot(np.squeeze(costs))\n",
    "        plt.ylabel('cost')\n",
    "        plt.xlabel('iterations (per fives)')\n",
    "        plt.title(\"Learning rate =\" + str(learning_rate))\n",
    "        plt.show()\n",
    "        \n",
    "        parameters = sess.run(parameters)\n",
    "        \n",
    "        print (\"Test Accuracy: \", accuracy.eval({X: dev_X, Y: dev_Y}))\n",
    "        \n",
    "    \n",
    "    prediction = tf.argmax(Z3)       \n",
    "    \n",
    "    return parameters, prediction  "
   ]
  },
  {
   "cell_type": "code",
   "execution_count": 14,
   "metadata": {},
   "outputs": [
    {
     "name": "stdout",
     "output_type": "stream",
     "text": [
      "learning_rate 0.005000, num_epochs 50, mini_batch_size 10, l2_regularize False, beta 0.020000\n",
      "WARNING:tensorflow:From <ipython-input-11-c4c1b8be4a10>:28: softmax_cross_entropy_with_logits (from tensorflow.python.ops.nn_ops) is deprecated and will be removed in a future version.\n",
      "Instructions for updating:\n",
      "\n",
      "Future major versions of TensorFlow will allow gradients to flow\n",
      "into the labels input on backprop by default.\n",
      "\n",
      "See @{tf.nn.softmax_cross_entropy_with_logits_v2}.\n",
      "\n",
      "Cost after epoch 1: 7.061410\n",
      "Cost after epoch 2: 5.622121\n",
      "Cost after epoch 3: 4.789546\n",
      "Cost after epoch 4: 4.786476\n",
      "Cost after epoch 5: 4.442242\n",
      "Cost after epoch 6: 3.997604\n",
      "Cost after epoch 7: 4.208305\n",
      "Cost after epoch 8: 3.738872\n",
      "Cost after epoch 9: 3.597192\n",
      "Cost after epoch 10: 3.218843\n",
      "Cost after epoch 11: 3.436869\n",
      "Cost after epoch 12: 2.977800\n",
      "Cost after epoch 13: 2.980100\n",
      "Cost after epoch 14: 2.843598\n",
      "Cost after epoch 15: 2.752924\n",
      "Cost after epoch 16: 2.586309\n",
      "Cost after epoch 17: 2.521039\n",
      "Cost after epoch 18: 2.845722\n",
      "Cost after epoch 19: 2.630410\n",
      "Cost after epoch 20: 2.343413\n",
      "Cost after epoch 21: 2.231158\n",
      "Cost after epoch 22: 2.070470\n",
      "Cost after epoch 23: 1.799476\n",
      "Cost after epoch 24: 1.893818\n",
      "Cost after epoch 25: 1.453050\n",
      "Cost after epoch 26: 2.118791\n",
      "Cost after epoch 27: 1.670438\n",
      "Cost after epoch 28: 1.728051\n",
      "Cost after epoch 29: 1.353458\n",
      "Cost after epoch 30: 1.494703\n",
      "Cost after epoch 31: 1.211166\n",
      "Cost after epoch 32: 0.990121\n",
      "Cost after epoch 33: 1.095266\n",
      "Cost after epoch 34: 1.154167\n",
      "Cost after epoch 35: 0.952598\n",
      "Cost after epoch 36: 1.119635\n",
      "Cost after epoch 37: 1.100211\n",
      "Cost after epoch 38: 0.656051\n",
      "Cost after epoch 39: 0.486208\n",
      "Cost after epoch 40: 0.453792\n",
      "Cost after epoch 41: 1.525217\n",
      "Cost after epoch 42: 0.397691\n",
      "Cost after epoch 43: 0.281522\n",
      "Cost after epoch 44: 0.314872\n",
      "Cost after epoch 45: 0.235199\n",
      "Cost after epoch 46: 0.200561\n",
      "Cost after epoch 47: 0.180143\n",
      "Cost after epoch 48: 0.159273\n",
      "Cost after epoch 49: 0.146227\n",
      "Cost after epoch 50: 0.148467\n"
     ]
    },
    {
     "data": {
      "image/png": "[encoded data removed]",
      "text/plain": [
       "<matplotlib.figure.Figure at 0x1c97a978>"
      ]
     },
     "metadata": {},
     "output_type": "display_data"
    },
    {
     "name": "stdout",
     "output_type": "stream",
     "text": [
      "Test Accuracy:  0.80102\n"
     ]
    }
   ],
   "source": [
    "parameters, prediction = train(train_X, train_Y, test_X, test_Y, None, None,\n",
    "                   num_epochs=50, learning_rate = 0.005, \n",
    "                   mini_batch_size = 10, l2_regularize=False, beta=0.02)"
   ]
  },
  {
   "cell_type": "code",
   "execution_count": null,
   "metadata": {
    "collapsed": true
   },
   "outputs": [],
   "source": []
  }
 ],
 "metadata": {
  "kernelspec": {
   "display_name": "Python 3",
   "language": "python",
   "name": "python3"
  },
  "language_info": {
   "codemirror_mode": {
    "name": "ipython",
    "version": 3
   },
   "file_extension": ".py",
   "mimetype": "text/x-python",
   "name": "python",
   "nbconvert_exporter": "python",
   "pygments_lexer": "ipython3",
   "version": "3.6.3"
  }
 },
 "nbformat": 4,
 "nbformat_minor": 2
}
